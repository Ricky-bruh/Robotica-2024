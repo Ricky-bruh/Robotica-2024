{
 "cells": [
  {
   "cell_type": "markdown",
   "id": "f1d41b75",
   "metadata": {},
   "source": [
    "# PARI O DISPARI"
   ]
  },
  {
   "cell_type": "code",
   "execution_count": null,
   "id": "3e791f70",
   "metadata": {},
   "outputs": [],
   "source": [
    "numero = int(input(\"Inserisci un numero:\"))\n",
    "\n",
    "if numero % 2 == 0:\n",
    "    print(numero, \"é un numero pari\")\n",
    "\n",
    "else:\n",
    "    print(numero, \"é dispari\")"
   ]
  },
  {
   "cell_type": "markdown",
   "id": "ba8e8d0d",
   "metadata": {},
   "source": [
    "# QUADRATO DEL NUMERO"
   ]
  },
  {
   "cell_type": "code",
   "execution_count": null,
   "id": "dadfe21b",
   "metadata": {},
   "outputs": [],
   "source": [
    "n = int(input(\"inserisci un numero intero positivo: \"))\n",
    "\n",
    "print(\"Quadrati dei primi\", n, \"numeri:\")\n",
    "\n",
    "for numero in range(1,n + 1):\n",
    "    quadrato = numero ** 2\n",
    "    print(\"Il quadrato di\", numero, \"é\", quadrato)"
   ]
  },
  {
   "cell_type": "markdown",
   "id": "975a4a63",
   "metadata": {},
   "source": [
    "# MEDIA DEI NUMERI"
   ]
  },
  {
   "cell_type": "code",
   "execution_count": null,
   "id": "79c2cdbf",
   "metadata": {},
   "outputs": [],
   "source": [
    "numeri = []\n",
    "\n",
    "n = int(input(\"Quanti numero vuoi inserire? \"))\n",
    "\n",
    "for i in range(n):\n",
    "    numero = float(input(\"Inserisci un numero:\"))\n",
    "    numeri.append(numero)\n",
    "\n",
    "media = sum(numeri) / len(numeri)\n",
    "\n",
    "print(\"La media dei numeri inseriti é:\", media)"
   ]
  },
  {
   "cell_type": "markdown",
   "id": "ac7d3106",
   "metadata": {},
   "source": [
    "# INDOVINA IL NUMERO"
   ]
  },
  {
   "cell_type": "code",
   "execution_count": null,
   "id": "149d41ef",
   "metadata": {},
   "outputs": [],
   "source": [
    "import random\n",
    "\n",
    "numero_da_indovinare = random.randint(1, 100)\n",
    "tentativi = 0\n",
    "\n",
    "while True:\n",
    "    tentativo = int(input(\"Indivina il numero (1-100): \"))\n",
    "    tentativi += 1\n",
    "    \n",
    "    if tentativo == numero_da_indovinare:\n",
    "        print(\"Bravo! Hai indovinato il numero\", numero_da_indovinare, \"in\", tentativi, \"tentativi.\")\n",
    "        break\n",
    "    elif tentativo < numero_da_indovinare:\n",
    "        print(\"Il numero è più grande. \")\n",
    "    else:\n",
    "        print(\"Il numero é più piccolo.\")"
   ]
  },
  {
   "cell_type": "markdown",
   "id": "cca0cc97",
   "metadata": {},
   "source": [
    "# CARTA, FORBICE, SASSO"
   ]
  },
  {
   "cell_type": "code",
   "execution_count": null,
   "id": "c5e67d97",
   "metadata": {},
   "outputs": [],
   "source": [
    "import random\n",
    "\n",
    "mosse = [\"carta\", \"forbici\",\"sasso\"]\n",
    "\n",
    "computer_mossa = random.choice(mosse)\n",
    "\n",
    "print(\"Benvenuti al Gioco del Morra Cinese\")\n",
    "scelta_giocatore = input(\"Scegli la tua mossa, (carta, forbice, sasso)\")\n",
    "\n",
    "if scelta_giocatore not in mosse:\n",
    "    print(\"mosssa non permessa\")v\n",
    "else:\n",
    "    print(\"Il computer ha scelto\", computer_mossa)\n",
    "    if scelta_giocatore == computer_mossa:\n",
    "        print(\"Pareggio\")\n",
    "    elif (scelta_giocatore == \"carta\" and computer_mossa == \"sasso\") or \\\n",
    "         (scelta_giocatore == \"forbici\" and computer_mossa == \"carta\") or \\\n",
    "         (scelta_giocatore == \"sasso\" and computer_mossa == \"forbici\"):\n",
    "        print(\"Hai vinto\")\n",
    "    else:\n",
    "        print(\"hai perso\")\n"
   ]
  },
  {
   "cell_type": "markdown",
   "id": "7cb0e294",
   "metadata": {},
   "source": [
    "# FATTORIALE"
   ]
  },
  {
   "cell_type": "code",
   "execution_count": null,
   "id": "53420915",
   "metadata": {},
   "outputs": [],
   "source": [
    "n = int(input(\"Inserisci un numero intero: \"))\n",
    "\n",
    "fattoriale = 1\n",
    "\n",
    "if n<0:\n",
    "    print(\"Numero Negativo\")\n",
    "elif n ==0:\n",
    "    print(\"Il numero di zero è un 1 per definizione\")\n",
    "else:\n",
    "    for numero in range(1, n+1):\n",
    "        fattoriale*=numero\n",
    "print(f\"Il fattoriale di {n} è {fattoriale}\")"
   ]
  },
  {
   "cell_type": "markdown",
   "id": "d7ce90af",
   "metadata": {},
   "source": [
    "# SOMMA I NUMERI PRIMI"
   ]
  },
  {
   "cell_type": "code",
   "execution_count": null,
   "id": "770a5907",
   "metadata": {},
   "outputs": [],
   "source": [
    "# Chiedere all'utente d'inserire un numero imtero positivo N\n",
    "\n",
    "N = int(input(\"Inserisci un numero intero positivo N: \"))\n",
    "\n",
    "# Inizializzare la somma a zero\n",
    "somma = 0\n",
    "\n",
    "# Calcolare la somma dei primi N numeri pari\n",
    "for numero in range(2, 2 * N + 1, 2):\n",
    "    somma += numero\n",
    "    \n",
    "# Stampare la somma\n",
    "print(f\"la somma dei primi {N} numeri pari è {somma}\")"
   ]
  },
  {
   "cell_type": "markdown",
   "id": "01208bf8",
   "metadata": {},
   "source": [
    "# CONTA VOCALI"
   ]
  },
  {
   "cell_type": "code",
   "execution_count": 1,
   "id": "b4454c24",
   "metadata": {},
   "outputs": [
    {
     "name": "stdout",
     "output_type": "stream",
     "text": [
      "Inserisci una frase o una parola: DIO\n",
      "nella frase ci sono 2 vocali\n"
     ]
    }
   ],
   "source": [
    "# Chiedere all'utente d'inserire una frase o una parola\n",
    "\n",
    "frase = input(\"Inserisci una frase o una parola: \").lower() #Converti tutto in minuscolo per semplificare il contaggio\n",
    "\n",
    "# Inizializzare il contatore delle vocali\n",
    "conteggio_vocali = 0\n",
    "\n",
    "# Definisci le vocali da cercare\n",
    "vocali = \"aeiou\"\n",
    "\n",
    "# scansione ogni carattere nella frase\n",
    "for carattere in frase:\n",
    "    # Verifica se il carattere è una vocale\n",
    "    if carattere in vocali:\n",
    "        conteggio_vocali += 1\n",
    "    \n",
    "# Stampare la somma\n",
    "print(f\"nella frase ci sono {conteggio_vocali} vocali\")"
   ]
  },
  {
   "cell_type": "markdown",
   "id": "3580b274",
   "metadata": {},
   "source": [
    "# NUMERO INTERO POSITIVO"
   ]
  },
  {
   "cell_type": "code",
   "execution_count": null,
   "id": "770cfdea",
   "metadata": {},
   "outputs": [],
   "source": [
    "# Chiedere all'utente di inserire un nuerp intero positivo N\n",
    "N = int(input(\"Inserisci un numero intero positivo N: \"))\n",
    "lista = []\n",
    "\n",
    "\n",
    "# Calcolare la somma dei primi n numeri pari\n",
    "for numero in range(2, 2 * N + 1,2):\n",
    "    lista.append(numero)ìì\n",
    "    \n",
    "print(lista)"
   ]
  },
  {
   "cell_type": "code",
   "execution_count": null,
   "id": "8f028d56",
   "metadata": {},
   "outputs": [],
   "source": []
  }
 ],
 "metadata": {
  "kernelspec": {
   "display_name": "Python 3 (ipykernel)",
   "language": "python",
   "name": "python3"
  },
  "language_info": {
   "codemirror_mode": {
    "name": "ipython",
    "version": 3
   },
   "file_extension": ".py",
   "mimetype": "text/x-python",
   "name": "python",
   "nbconvert_exporter": "python",
   "pygments_lexer": "ipython3",
   "version": "3.11.4"
  }
 },
 "nbformat": 4,
 "nbformat_minor": 5
}
