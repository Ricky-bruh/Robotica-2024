{
 "cells": [
  {
   "cell_type": "markdown",
   "id": "8e9fa156",
   "metadata": {},
   "source": [
    "\n",
    "# Il Primo Programma\n",
    "\n",
    "## Variabili ed Input Utente"
   ]
  },
  {
   "cell_type": "code",
   "execution_count": null,
   "id": "28ae777b",
   "metadata": {
    "lines_to_next_cell": 2
   },
   "outputs": [],
   "source": [
    "nome = input(\"Inserisci il tuo nome: \")\n",
    "print(\"Ciao\", nome, \"!\")"
   ]
  },
  {
   "cell_type": "code",
   "execution_count": null,
   "id": "51ea591e",
   "metadata": {
    "lines_to_next_cell": 2
   },
   "outputs": [],
   "source": [
    "nome = \"Edoardo\"\n",
    "print(nome)"
   ]
  },
  {
   "cell_type": "code",
   "execution_count": null,
   "id": "08b47198",
   "metadata": {},
   "outputs": [],
   "source": [
    "\n",
    "\n",
    "Via = input(\"Inserisci nome della via\")\n",
    "print(\"Hai inserito\", Via)\n",
    "\n",
    "\n",
    "# Ripetere il codice più volte"
   ]
  },
  {
   "cell_type": "code",
   "execution_count": null,
   "id": "0f6149c8",
   "metadata": {},
   "outputs": [],
   "source": [
    "\n",
    "\n",
    "nome = input(\"Inserisci il tuo nome: \")\n",
    "for contatore in range(3):\n",
    "    print(\"Ciao\", nome, \"!\") #Ripeterà solo quello dentro l'indentazione\n",
    "\n",
    "\n",
    "# # Calcolatrice Python #\n",
    "\n",
    "# ## Addizione ##"
   ]
  },
  {
   "cell_type": "code",
   "execution_count": null,
   "id": "45b93d2a",
   "metadata": {},
   "outputs": [],
   "source": [
    "\n",
    "\n",
    "numero1 = int(input(\"Inserisci il primo numero: \"))\n",
    "numero2 = int(input(\"Inserisci il secondo numero: \"))\n",
    "somma = numero1 + numero2\n",
    "print(\"La somma è:\", somma)\n",
    "\n",
    "\n",
    "# ## Sottrazione ##"
   ]
  },
  {
   "cell_type": "code",
   "execution_count": null,
   "id": "9f928b82",
   "metadata": {},
   "outputs": [],
   "source": [
    "\n",
    "\n",
    "sottrazione = numero1 - numero2\n",
    "print(\"La sottrazioneè:\", sottrazione)\n",
    "\n",
    "\n",
    "# ## Moltiplicazione ##"
   ]
  },
  {
   "cell_type": "code",
   "execution_count": null,
   "id": "7c306181",
   "metadata": {},
   "outputs": [],
   "source": [
    "\n",
    "\n",
    "numero1 = int(input(\"Inserisci il pirmo numero: \"))\n",
    "numero2 = int(input(\"Inserisci il secondo numero: \"))\n",
    "moltiplicazione = numero1 * numero2\n",
    "print(\"La moltiplicazione è:\", moltiplicazione)\n",
    "\n",
    "\n",
    "# ## Divisione ##"
   ]
  },
  {
   "cell_type": "code",
   "execution_count": null,
   "id": "3de25262",
   "metadata": {},
   "outputs": [],
   "source": [
    "\n",
    "\n",
    "numero1 = int(input(\"Inserisci il pirmo numero: \"))\n",
    "numero2 = int(input(\"Inserisci il secondo numero: \"))\n",
    "divisione = numero1 / numero2\n",
    "print(\"La divisione è:\", divisione)\n",
    "\n",
    "\n",
    "# # Loop e Ripetizione #"
   ]
  },
  {
   "cell_type": "code",
   "execution_count": null,
   "id": "8f4d216d",
   "metadata": {
    "lines_to_next_cell": 2
   },
   "outputs": [],
   "source": [
    "\n",
    "\n",
    "for numero in range(11): #il range parte da 0 ed arriva a 11\n",
    "    print(numero)"
   ]
  },
  {
   "cell_type": "code",
   "execution_count": null,
   "id": "e683d719",
   "metadata": {},
   "outputs": [],
   "source": [
    "\n",
    "\n",
    "for numero in range(1,11): #il range parte da 1 ed arriva a 11\n",
    "    print(numero)\n",
    "\n",
    "\n",
    "# # Condizioni e Decisioni #"
   ]
  },
  {
   "cell_type": "code",
   "execution_count": null,
   "id": "38e2b80a",
   "metadata": {},
   "outputs": [],
   "source": [
    "\n",
    "\n",
    "# Calcolatrice Python con decisioni\n",
    "\n",
    "operazione = input(\"Inserisci l'operazione (+, -, *, /): \")\n",
    "\n",
    "numero1 = float(input(\"Inserisci il primo numero: \"))\n",
    "numero2 = float(input(\"Inserisci il secondo numero: \"))\n",
    "\n",
    "if operazione == \"+\":\n",
    "    risultato = numero1 + numero2\n",
    "elif operazione == \"-\":\n",
    "    risultato = numero1 - numero2\n",
    "elif operazione == \"*\":\n",
    "    risultato = numero1 * numero2\n",
    "elif operazione == \"/\":\n",
    "    risultato = numero1 / numero2\n",
    "else:\n",
    "    risultato = \"Operazione non valida\"\n",
    "    \n",
    "print(\"Il risultato è:\", risultato)\n",
    "\n",
    "\n",
    "# # Contare fino a N #"
   ]
  },
  {
   "cell_type": "code",
   "execution_count": null,
   "id": "bf645ecd",
   "metadata": {},
   "outputs": [],
   "source": [
    "\n",
    "\n",
    "n = int(input(\"Inserisci un numero intero positivo:\"))\n",
    "\n",
    "for numero in range(1,n+1):\n",
    "    print(numero)\n",
    "\n",
    "\n",
    "# # Calcolare la Somma #"
   ]
  },
  {
   "cell_type": "code",
   "execution_count": null,
   "id": "faea1491",
   "metadata": {},
   "outputs": [],
   "source": [
    "\n",
    "\n",
    "n = int(input(\"Inserisci un numero intero positivo: \"))\n",
    "somma = 0\n",
    "\n",
    "for numero in range(1, n+1):\n",
    "    #somma = somma + numero\n",
    "    somma += numero\n",
    "print(\"La somma dei primi\", n, \"numeri interi è:\", somma)\n",
    "\n",
    "\n",
    "# # Calcolare il Quadrato dei Primi Numeri #"
   ]
  },
  {
   "cell_type": "code",
   "execution_count": null,
   "id": "a71b5bfa",
   "metadata": {},
   "outputs": [],
   "source": [
    "\n",
    "\n",
    "n = int(input(\"Inserisci un numero intero positivo: \"))\n",
    "\n",
    "print(\"Quadrati dei primi\", n, \"numeri:\")\n",
    "\n",
    "for numero in range (1, n+1):\n",
    "    quadrato = numero ** 2\n",
    "    print(\"Il quadrato di\", numero, \"è\", quadrato)\n",
    "\n",
    "\n",
    "# # Verificare la Parità #"
   ]
  },
  {
   "cell_type": "code",
   "execution_count": null,
   "id": "0972e9be",
   "metadata": {},
   "outputs": [],
   "source": [
    "\n",
    "\n",
    "numero = int(input(\"Inserisci un numero: \"))\n",
    "\n",
    "#Se input è DIVISIBILE(%) per 2 e ha resto 0 (== 0)\n",
    "if numero % 2 == 0:\n",
    "    print(numero, \"é un numero pari.\")\n",
    "else:\n",
    "    print(numero, \"è un numero dispari.\")\n",
    "\n",
    "\n",
    "# # Calcolare il Fattoriale #"
   ]
  },
  {
   "cell_type": "code",
   "execution_count": null,
   "id": "8453593d",
   "metadata": {},
   "outputs": [],
   "source": [
    "\n",
    "\n",
    "n = int(input(\"Inserire un numero intero positivo: \"))\n",
    "fattoriale = 1\n",
    "\n",
    "for numero in range(1, n+1):\n",
    "    #fattoriale = fattoriale * numero\n",
    "    fattoriale *= numero\n",
    "print(\"Il fattoriale di\", n, \"è:\", fattoriale)\n",
    "\n",
    "\n",
    "# # Calcolare la media di una Lista di Numeri #"
   ]
  },
  {
   "cell_type": "code",
   "execution_count": null,
   "id": "653ddbbe",
   "metadata": {},
   "outputs": [],
   "source": [
    "\n",
    "\n",
    "numeri = [] #Lista vuota di nome numeri\n",
    "\n",
    "n = int(input(\"Quanti numeri vuoi inserire= \")) #Chiede quanti numeri voglio inserire dentro la lista vuota\n",
    "\n",
    "#chiede un numero per quanto hai detto alla prima domanda\n",
    "for i in range(n):\n",
    "    numero = float(input(\"Inserisci un numero: \"))\n",
    "    numeri.append(numero) #mette il numero inserito dopo quello precedente\n",
    "    \n",
    "media = sum(numeri) / len(numeri) #Somma numeri dentro la lista e divide per lunghezza di quanti elementi ci sono\n",
    "\n",
    "print(\"La media dei numeri inseriti è:\", media, numeri)\n",
    "\n",
    "\n",
    "# # Gioco dell'Indovinello #"
   ]
  },
  {
   "cell_type": "code",
   "execution_count": null,
   "id": "f17bffd4",
   "metadata": {},
   "outputs": [],
   "source": [
    "\n",
    "\n",
    "import random #importa la libreria del random\n",
    "\n",
    "numero_da_indovinare =random.randint(1, 100) #spara un numero da 1 a 100\n",
    "tentativi = 0\n",
    "\n",
    "#chiede un numero\n",
    "while True:\n",
    "    tentativo = int(input(\"Indovina il numero (1-100): \"))\n",
    "    tentativi += 1\n",
    "    \n",
    "    if tentativo == numero_da_indovinare:\n",
    "        print(\"Bravo! Hai indovinato il numero\", numero_da_indovinare, \"in\", tentativi, \"tentativi\")\n",
    "        break\n",
    "    elif tentativo < numero_da_indovinare:\n",
    "        print(\"Il numero è più grande\")\n",
    "    else:\n",
    "        print(\"Il numero è più piccolo\")\n",
    "\n",
    "\n",
    "# # MORRA CINESE #"
   ]
  },
  {
   "cell_type": "code",
   "execution_count": null,
   "id": "bf725e37",
   "metadata": {},
   "outputs": [],
   "source": [
    "\n",
    "\n",
    "import random\n",
    "\n",
    "mosse = [\"carta\", \"forbice\", \"sasso\"]\n",
    "\n",
    "computer_mossa = random.choice(mosse)\n",
    "\n",
    "print(\"Benvenuti al gioco del Morra Cinese!\")\n",
    "scelta_giocatore = input(\"Scegli la tua mossa (Carta, forbici, sasso): \")\n",
    "\n",
    "if scelta_giocatore not in mosse:\n",
    "    print(\"Mossa non permessa\")\n",
    "else:\n",
    "    print(\"Il computer ha scelto:\", computer_mossa)\n",
    "    if scelta_giocatore == computer_mossa:\n",
    "        print(\"Pareggio!\")\n",
    "    elif (scelta_giocatore == \"carta\" and computer_mossa == \"sasso\") or \\\n",
    "         (scelta_giocatore == \"forbici\" and computer_mossa == \"carta\") or \\\n",
    "         (scelta_giocatore == \"sasso\" and computer_mossa == \"forbici\"):\n",
    "        print(\"Hai Vinto!\")\n",
    "    else:\n",
    "        print(\"Hai Perso!\")\n",
    "\n",
    "\n",
    "# # Calcolo del fattoriale #"
   ]
  },
  {
   "cell_type": "code",
   "execution_count": null,
   "id": "60548991",
   "metadata": {},
   "outputs": [],
   "source": [
    "\n",
    "\n",
    "n = int(input(\"Inserisci un numero intero: \"))\n",
    "\n",
    "fattoriale = 1\n",
    "\n",
    "if n<0:\n",
    "    print(\"Numero Negativo\")\n",
    "elif n ==0:\n",
    "    print(\"Il numero di zero è un 1 per definizione\")\n",
    "else:\n",
    "    for numero in range(1, n+1):\n",
    "        fattoriale*=numero\n",
    "print(f\"Il fattoriale di {n} è {fattoriale}\")\n",
    "\n",
    "\n",
    "# # somma numeri n #"
   ]
  },
  {
   "cell_type": "code",
   "execution_count": null,
   "id": "2193ffcb",
   "metadata": {},
   "outputs": [],
   "source": [
    "\n",
    "\n",
    "# Chiedere all'utente d'inserire un numero imtero positivo N\n",
    "\n",
    "N = int(input(\"Inserisci un numero intero positivo N: \"))\n",
    "\n",
    "# Inizializzare la somma a zero\n",
    "somma = 0\n",
    "\n",
    "# Calcolare la somma dei primi N numeri pari\n",
    "for numero in range(2, 2 * N + 1, 2):\n",
    "    somma += numero\n",
    "    \n",
    "# Stampare la somma\n",
    "print(f\"la somma dei primi {N} numeri pari è {somma}\")\n",
    "\n",
    "\n",
    "# # CONTA VOCALI IN UNA FRASE #"
   ]
  },
  {
   "cell_type": "code",
   "execution_count": null,
   "id": "02f8c038",
   "metadata": {
    "lines_to_next_cell": 2
   },
   "outputs": [],
   "source": [
    "\n",
    "\n",
    "# Chiedere all'utente d'inserire una frase o una parola\n",
    "\n",
    "frase  = input(\"Inserisci una frase o una parola: \").lower() #Converti tutto in minuscolo per semplificare il contaggio\n",
    "\n",
    "# Inizializzare il contatore delle vocali\n",
    "conteggio_vocali = 0\n",
    "\n",
    "# Definisci le vocali da cercare\n",
    "vocali = \"aeiou\"\n",
    "\n",
    "# scansione ogni carattere nella frase\n",
    "for carattere in frase:\n",
    "    # Verifica se il carattere è una vocale\n",
    "    if carattere in vocali:\n",
    "        conteggio_vocali += 1\n",
    "    \n",
    "# Stampare la somma\n",
    "print(f\"nella frase ci sono {conteggio_vocali} vocali\")"
   ]
  },
  {
   "cell_type": "code",
   "execution_count": null,
   "id": "e178cbc7",
   "metadata": {},
   "outputs": [],
   "source": [
    "\n",
    "\n",
    "# Chiedere all'utente di inserire un nuerp intero positivo N\n",
    "N = int(input(\"Inserisci un numero intero positivo N: \"))\n",
    "lista = []\n",
    "\n",
    "\n",
    "# Calcolare la somma dei primi n numeri pari\n",
    "for numero in range(2, 2 * N + 1,2):\n",
    "    lista.append(numero)\n",
    "    \n",
    "print(lista)\n",
    "\n",
    "\n",
    "# # IDNOVINA IL NUMERO DI DADO CASUALE (1 a 6) #"
   ]
  },
  {
   "cell_type": "code",
   "execution_count": null,
   "id": "fd62b1b1",
   "metadata": {},
   "outputs": [],
   "source": [
    "\n",
    "\n",
    "import random\n",
    "\n",
    "# Genera un numero casuale da 1 a 6(simulando un lanco di un dado)\n",
    "numero_dado = random.randint(1, 6)\n",
    "\n",
    "# Chiedi all'utente d'indovinare il numero\n",
    "indovina = int(input(\"Indovina il numero del dado (da 1 a 6): \"))\n",
    "\n",
    "# Verifica se l'utente ha indovinato correttamente\n",
    "if indovina <1 or indovina <0:\n",
    "    print(\"numero non ammesso\")\n",
    "elif indovina == numero_dado:\n",
    "    print(f\"Complimenti il numero del dardo era {numero_dado}. Hai indovinato!\")\n",
    "else:\n",
    "    print(f\"Mi dispiae, il numero del dado era {numero_dado}. Meglio fortuna la prossima volta!\")\n",
    "\n",
    "\n",
    "# # SIMULAZIONE POPOLAZIONE #"
   ]
  },
  {
   "cell_type": "code",
   "execution_count": null,
   "id": "f79d7e8d",
   "metadata": {},
   "outputs": [],
   "source": [
    "\n",
    "\n",
    "# Inizializza la popolazione e gli anni\n",
    "popolazione = int(input(\"inserisci popolazione iniziale: \"))\n",
    "anni = int(input(\"Inserisci il numero di anni da simulare: \"))\n",
    "# Tasso di natalità e tasso di mortalità (% annuale)\n",
    "tasso_natalità = float(input(\"Inserisci tasso natalità: \"))\n",
    "tasso_mortalità = float(input(\"Inserisci tasso mortalità: \"))\n",
    "\n",
    "\n",
    "# Simulazione della crescita della popolazione\n",
    "for anno in range(anni):\n",
    "    nascite = (popolazione * tasso_natalità) / 100\n",
    "    morti = (popolazione * tasso_mortalità) / 100\n",
    "    popolazione += (nascite - morti)\n",
    "    \n",
    "    print(f\"Anno {anni}, Popolazione {int(popolazione)}\")\n",
    "    \n",
    "print(\"Simulazione completata\")\n",
    "\n",
    "\n",
    "# # dire giorno ed ora con datetime #"
   ]
  },
  {
   "cell_type": "code",
   "execution_count": null,
   "id": "2722cd94",
   "metadata": {
    "lines_to_next_cell": 2
   },
   "outputs": [],
   "source": [
    "\n",
    "\n",
    "import datetime\n",
    "\n",
    "today = datetime.datetime.today()\n",
    "print(f\"oggi è il giorno:{today: %d %m %y},  ore:{today: %H %M %S}\")"
   ]
  },
  {
   "cell_type": "code",
   "execution_count": null,
   "id": "c405ac1a",
   "metadata": {},
   "outputs": [],
   "source": [
    "\n",
    "\n",
    "print(\"Benvenuto nel convertitore di misura!\")\n",
    "scelta = input(\"Cosa desideri convertire? (metri/piedi/chilograbbi/libbre): \").lower()\n",
    "\n",
    "if scelta == \"metri\":\n",
    "    valore = float(input(\"Inserisci il valore in metri: \"))\n",
    "    risultato = valore * 3.28034\n",
    "    print(f\"{valore} metri corrispondono = {risultato} piedi.\")\n",
    "    \n",
    "elif scelta == \"piedi\":\n",
    "    valore = float(input(\"Inserisci il valore in piedi: \"))\n",
    "    risultato = valore * 0.3048\n",
    "    print(f\"{valore} metri corrispondono = {risultato} metri.\")\n",
    "    \n",
    "elif scelta == \"chilogrammi\":\n",
    "    valore = float(input(\"Inserisci il valore in chilogrammi: \"))\n",
    "    risultato = valore * 2.2046\n",
    "    print(f\"{valore} metri corrispondono = {risultato} libbre.\")\n",
    "    \n",
    "elif scelta == \"libbre\":\n",
    "    valore = float(input(\"Inserisci il valore in libbre: \"))\n",
    "    risultato = valore * 3.28034\n",
    "    print(f\"{valore} metri corrispondono = {risultato} chilogrammi.\")\n",
    "\n",
    "\n",
    "# # FIBONACCI #"
   ]
  },
  {
   "cell_type": "code",
   "execution_count": null,
   "id": "97dfb277",
   "metadata": {},
   "outputs": [],
   "source": [
    "\n",
    "\n",
    "# Chiedere all'utente d'inserire un numero n\n",
    "n = int(input(\"Inserisci un numeor n per calcolare l'n-esimo numero di Fibonacci: \"))\n",
    "#inizializzare le variabili per i primi due numeri di fibonacci\n",
    "a=0\n",
    "b=1\n",
    "c=1\n",
    "\n",
    "# Calcolare l'n-esimo numero di fibonacci\n",
    "if n <= 0:\n",
    "    print(\"il numero deve essere maggiore di 0\")\n",
    "elif n == 1:\n",
    "    risultato = a\n",
    "else:\n",
    "    for iterazione in range(n-3):\n",
    "        a = b\n",
    "        b = c\n",
    "        c = a + b\n",
    "    risultato = c\n",
    "# Stampare l'n-esio numero di fibonacci\n",
    "print(\"l'n-esimo numero di fibonacci è:\", risultato)\n",
    "\n",
    "\n",
    "# # FUNZIONI CUSTOM #"
   ]
  },
  {
   "cell_type": "code",
   "execution_count": null,
   "id": "51a1d2d0",
   "metadata": {
    "lines_to_next_cell": 2
   },
   "outputs": [],
   "source": [
    "\n",
    "\n",
    "def fibonacci(n):\n",
    "    fib_series = [0, 1]\n",
    "    \n",
    "    while len(fib_series) < n:\n",
    "        fib_series.append(fib_series[-1] + fib_series[-2])\n",
    "        \n",
    "    return fib_series"
   ]
  },
  {
   "cell_type": "code",
   "execution_count": null,
   "id": "39de6677",
   "metadata": {
    "lines_to_next_cell": 2
   },
   "outputs": [],
   "source": [
    "\n",
    "\n",
    "fibonacci(9)"
   ]
  },
  {
   "cell_type": "code",
   "execution_count": null,
   "id": "9260d215",
   "metadata": {
    "lines_to_next_cell": 2
   },
   "outputs": [],
   "source": [
    "\n",
    "\n",
    "import math\n",
    "\n",
    "def calcola_area_cerchio(raggio):\n",
    "    return math.pi * (raggio ** 2)\n",
    "\n",
    "def calcola_area_rettangolo(base, altezza):\n",
    "    return base * altezza\n",
    "\n",
    "def calcola_area_triangolo(base, altezza):\n",
    "    return (base * altezza) / 2\n",
    "\n",
    "print(\"Benvenuro nella calcolatrice di aree\")\n",
    "\n",
    "scelta = input(\"Vuoi calcolare l'area di un cerchio (c), rettangolo (r), triangolo (t): \").lower()\n",
    "\n",
    "if scelta == 'c':\n",
    "    raggio = float(input(\"Inserisci il raggio del cerchio: \"))\n",
    "    area = calcola_area_cerchio(raggio)\n",
    "    print(f\"L'area del cerchio è {area: .2f}\")\n",
    "elif scelta == 'r':\n",
    "    base = float(input(\"Inserisci la base del rettangolo: \"))\n",
    "    altezza = float(input(\"Inserisci l'altezza del rettangolo: \"))\n",
    "    area = calcola_area_rettangolo(base, altezza)\n",
    "    print(f\"L'area del rettangolo è {area:.2f}\")\n",
    "elif scelta == 't':\n",
    "    base = float(input(\"inserisci la base del triangolo: \"))\n",
    "    altezza = float(input(\"Inserisci l'altezza del triangolo: \"))\n",
    "    area = calcola_area_triangolo(base, altezza)\n",
    "    print(f\"l'area del triangolo è {area:-2f}\")\n",
    "else:\n",
    "    print(\"Scelta non valida, riprova\")"
   ]
  },
  {
   "cell_type": "code",
   "execution_count": null,
   "id": "2430fab8",
   "metadata": {
    "lines_to_next_cell": 2
   },
   "outputs": [],
   "source": [
    "\n",
    "\n"
   ]
  }
 ],
 "metadata": {
  "jupytext": {
   "cell_metadata_filter": "-all",
   "encoding": "# coding: utf-8",
   "executable": "/usr/bin/env python",
   "main_language": "python",
   "notebook_metadata_filter": "-all"
  },
  "kernelspec": {
   "display_name": "Python 3 (ipykernel)",
   "language": "python",
   "name": "python3"
  },
  "language_info": {
   "codemirror_mode": {
    "name": "ipython",
    "version": 3
   },
   "file_extension": ".py",
   "mimetype": "text/x-python",
   "name": "python",
   "nbconvert_exporter": "python",
   "pygments_lexer": "ipython3",
   "version": "3.11.4"
  }
 },
 "nbformat": 4,
 "nbformat_minor": 5
}
